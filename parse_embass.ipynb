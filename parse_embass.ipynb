{
 "cells": [
  {
   "cell_type": "code",
   "execution_count": 1,
   "metadata": {},
   "outputs": [],
   "source": [
    "import requests\n",
    "from bs4 import BeautifulSoup"
   ]
  },
  {
   "cell_type": "code",
   "execution_count": 2,
   "metadata": {},
   "outputs": [],
   "source": [
    "url_cons = 'https://washington.mid.ru/ru/consular-services/consulate/consul_sessions/'"
   ]
  },
  {
   "cell_type": "code",
   "execution_count": 4,
   "metadata": {},
   "outputs": [],
   "source": [
    "responce = requests.get(url_cons)\n",
    "html = responce.content\n",
    "soup = BeautifulSoup(html,'html.parser')"
   ]
  },
  {
   "cell_type": "code",
   "execution_count": 6,
   "metadata": {},
   "outputs": [],
   "source": [
    "usual_page = soup.select_one('div.page')"
   ]
  },
  {
   "cell_type": "code",
   "execution_count": 16,
   "metadata": {},
   "outputs": [
    {
     "data": {
      "text/plain": [
       "<div class=\"page\">\n",
       "<div class=\"page__in\">\n",
       "<div class=\"page__center\">\n",
       "<div class=\"text text_mb3\"><div class=\"text text_margin\">\n",
       "<h2 style=\"text-align: center;\"><span style=\"font-size: 18px;\">Уважаемые сограждане!</span></h2><h2 style=\"text-align: center;\"><span style=\"font-size: 18px;\">В настоящее время решение о следующей выездной сессии пока не принято.</span></h2><h2 style=\"text-align: center;\"><span style=\"font-size: 18px;\">Данная страница предназначена для заблаговременного оповещения российских граждан, временно находящихся или постоянно проживающих в США, о дате и времени проведения выездного консульского обслуживания. Информация о выездном консульском обслуживании также дублируется на страницах консульского отдела в социальных сетях.</span></h2><h2 style=\"text-align: center;\"><span style=\"font-size: 18px;\"></span><span style=\"font-size: 18px;\">Обращаем внимание, что информация о консульском выезде, правилах предварительной записи и порядка проведения выездного обслуживания размещается на данной странице, как правило, за 3-4 недели до проведения мероприятия.</span></h2><p style=\"text-align: justify;\"><br/></p> </div>\n",
       "</div>\n",
       "</div>\n",
       "<aside class=\"page__aside\">\n",
       "<div class=\"page__aside-in js-scrolling-bar\">\n",
       "</div>\n",
       "</aside>\n",
       "<div class=\"page__bottom\"></div>\n",
       "</div>\n",
       "</div>"
      ]
     },
     "execution_count": 16,
     "metadata": {},
     "output_type": "execute_result"
    }
   ],
   "source": [
    "usual_page"
   ]
  },
  {
   "cell_type": "code",
   "execution_count": 24,
   "metadata": {},
   "outputs": [],
   "source": [
    "with open('pattern.html','r') as f:\n",
    "    html2 = f.read()\n",
    "    page2 = BeautifulSoup(html2,'html.parser').select_one('div.page')"
   ]
  },
  {
   "cell_type": "code",
   "execution_count": 25,
   "metadata": {},
   "outputs": [
    {
     "data": {
      "text/plain": [
       "True"
      ]
     },
     "execution_count": 25,
     "metadata": {},
     "output_type": "execute_result"
    }
   ],
   "source": []
  },
  {
   "cell_type": "code",
   "execution_count": 19,
   "metadata": {},
   "outputs": [
    {
     "data": {
      "text/plain": [
       "bs4.BeautifulSoup"
      ]
     },
     "execution_count": 19,
     "metadata": {},
     "output_type": "execute_result"
    }
   ],
   "source": []
  },
  {
   "cell_type": "code",
   "execution_count": null,
   "metadata": {},
   "outputs": [],
   "source": []
  }
 ],
 "metadata": {
  "kernelspec": {
   "display_name": "Python 3",
   "language": "python",
   "name": "python3"
  },
  "language_info": {
   "codemirror_mode": {
    "name": "ipython",
    "version": 3
   },
   "file_extension": ".py",
   "mimetype": "text/x-python",
   "name": "python",
   "nbconvert_exporter": "python",
   "pygments_lexer": "ipython3",
   "version": "3.6.5"
  }
 },
 "nbformat": 4,
 "nbformat_minor": 2
}
